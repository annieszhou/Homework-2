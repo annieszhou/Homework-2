{
 "cells": [
  {
   "cell_type": "markdown",
   "id": "4336a062",
   "metadata": {},
   "source": [
    "Annie Zhou Homework 2"
   ]
  },
  {
   "cell_type": "code",
   "execution_count": 250,
   "id": "529f3ede",
   "metadata": {},
   "outputs": [],
   "source": [
    "import pandas as pd\n",
    "import numpy as np\n",
    "import matplotlib.pyplot as plt\n",
    "import seaborn as sns\n",
    "\n",
    "from sklearn.metrics import mean_squared_error\n",
    "from sklearn.metrics import r2_score\n",
    "from scipy.optimize import curve_fit\n",
    "from sklearn.metrics import mean_squared_error\n",
    "from sklearn.linear_model import Lasso\n",
    "from sklearn.model_selection import train_test_split\n",
    "from sklearn.model_selection import train_test_split\n",
    "from sklearn.linear_model import LogisticRegression\n",
    "from sklearn.metrics import classification_report, confusion_matrix\n",
    "from scipy.special import expit\n",
    "from sklearn import tree\n",
    "from sklearn import metrics\n",
    "from sklearn.cluster import KMeans "
   ]
  },
  {
   "cell_type": "code",
   "execution_count": 189,
   "id": "c21a03e5",
   "metadata": {},
   "outputs": [],
   "source": [
    "df = pd.read_csv('notebook/possum.csv')"
   ]
  },
  {
   "cell_type": "code",
   "execution_count": 190,
   "id": "c9220cd5",
   "metadata": {},
   "outputs": [
    {
     "data": {
      "text/html": [
       "<div>\n",
       "<style scoped>\n",
       "    .dataframe tbody tr th:only-of-type {\n",
       "        vertical-align: middle;\n",
       "    }\n",
       "\n",
       "    .dataframe tbody tr th {\n",
       "        vertical-align: top;\n",
       "    }\n",
       "\n",
       "    .dataframe thead th {\n",
       "        text-align: right;\n",
       "    }\n",
       "</style>\n",
       "<table border=\"1\" class=\"dataframe\">\n",
       "  <thead>\n",
       "    <tr style=\"text-align: right;\">\n",
       "      <th></th>\n",
       "      <th>case</th>\n",
       "      <th>site</th>\n",
       "      <th>Pop</th>\n",
       "      <th>sex</th>\n",
       "      <th>age</th>\n",
       "      <th>hdlngth</th>\n",
       "      <th>skullw</th>\n",
       "      <th>totlngth</th>\n",
       "      <th>taill</th>\n",
       "      <th>footlgth</th>\n",
       "      <th>earconch</th>\n",
       "      <th>eye</th>\n",
       "      <th>chest</th>\n",
       "      <th>belly</th>\n",
       "    </tr>\n",
       "  </thead>\n",
       "  <tbody>\n",
       "    <tr>\n",
       "      <th>0</th>\n",
       "      <td>1</td>\n",
       "      <td>1</td>\n",
       "      <td>Vic</td>\n",
       "      <td>m</td>\n",
       "      <td>8.0</td>\n",
       "      <td>94.1</td>\n",
       "      <td>60.4</td>\n",
       "      <td>89.0</td>\n",
       "      <td>36.0</td>\n",
       "      <td>74.5</td>\n",
       "      <td>54.5</td>\n",
       "      <td>15.2</td>\n",
       "      <td>28.0</td>\n",
       "      <td>36.0</td>\n",
       "    </tr>\n",
       "    <tr>\n",
       "      <th>1</th>\n",
       "      <td>2</td>\n",
       "      <td>1</td>\n",
       "      <td>Vic</td>\n",
       "      <td>f</td>\n",
       "      <td>6.0</td>\n",
       "      <td>92.5</td>\n",
       "      <td>57.6</td>\n",
       "      <td>91.5</td>\n",
       "      <td>36.5</td>\n",
       "      <td>72.5</td>\n",
       "      <td>51.2</td>\n",
       "      <td>16.0</td>\n",
       "      <td>28.5</td>\n",
       "      <td>33.0</td>\n",
       "    </tr>\n",
       "    <tr>\n",
       "      <th>2</th>\n",
       "      <td>3</td>\n",
       "      <td>1</td>\n",
       "      <td>Vic</td>\n",
       "      <td>f</td>\n",
       "      <td>6.0</td>\n",
       "      <td>94.0</td>\n",
       "      <td>60.0</td>\n",
       "      <td>95.5</td>\n",
       "      <td>39.0</td>\n",
       "      <td>75.4</td>\n",
       "      <td>51.9</td>\n",
       "      <td>15.5</td>\n",
       "      <td>30.0</td>\n",
       "      <td>34.0</td>\n",
       "    </tr>\n",
       "    <tr>\n",
       "      <th>3</th>\n",
       "      <td>4</td>\n",
       "      <td>1</td>\n",
       "      <td>Vic</td>\n",
       "      <td>f</td>\n",
       "      <td>6.0</td>\n",
       "      <td>93.2</td>\n",
       "      <td>57.1</td>\n",
       "      <td>92.0</td>\n",
       "      <td>38.0</td>\n",
       "      <td>76.1</td>\n",
       "      <td>52.2</td>\n",
       "      <td>15.2</td>\n",
       "      <td>28.0</td>\n",
       "      <td>34.0</td>\n",
       "    </tr>\n",
       "    <tr>\n",
       "      <th>4</th>\n",
       "      <td>5</td>\n",
       "      <td>1</td>\n",
       "      <td>Vic</td>\n",
       "      <td>f</td>\n",
       "      <td>2.0</td>\n",
       "      <td>91.5</td>\n",
       "      <td>56.3</td>\n",
       "      <td>85.5</td>\n",
       "      <td>36.0</td>\n",
       "      <td>71.0</td>\n",
       "      <td>53.2</td>\n",
       "      <td>15.1</td>\n",
       "      <td>28.5</td>\n",
       "      <td>33.0</td>\n",
       "    </tr>\n",
       "  </tbody>\n",
       "</table>\n",
       "</div>"
      ],
      "text/plain": [
       "   case  site  Pop sex  age  hdlngth  skullw  totlngth  taill  footlgth  \\\n",
       "0     1     1  Vic   m  8.0     94.1    60.4      89.0   36.0      74.5   \n",
       "1     2     1  Vic   f  6.0     92.5    57.6      91.5   36.5      72.5   \n",
       "2     3     1  Vic   f  6.0     94.0    60.0      95.5   39.0      75.4   \n",
       "3     4     1  Vic   f  6.0     93.2    57.1      92.0   38.0      76.1   \n",
       "4     5     1  Vic   f  2.0     91.5    56.3      85.5   36.0      71.0   \n",
       "\n",
       "   earconch   eye  chest  belly  \n",
       "0      54.5  15.2   28.0   36.0  \n",
       "1      51.2  16.0   28.5   33.0  \n",
       "2      51.9  15.5   30.0   34.0  \n",
       "3      52.2  15.2   28.0   34.0  \n",
       "4      53.2  15.1   28.5   33.0  "
      ]
     },
     "execution_count": 190,
     "metadata": {},
     "output_type": "execute_result"
    }
   ],
   "source": [
    "df.head()"
   ]
  },
  {
   "cell_type": "code",
   "execution_count": 191,
   "id": "564ec24c",
   "metadata": {},
   "outputs": [],
   "source": [
    "def linear_line(x, m, b):\n",
    "    return m*x + b "
   ]
  },
  {
   "cell_type": "code",
   "execution_count": 192,
   "id": "80c43ae1",
   "metadata": {},
   "outputs": [
    {
     "name": "stdout",
     "output_type": "stream",
     "text": [
      "[0.8336698  9.88823298]\n",
      "[[ 7.45261273e-03 -6.90133423e-01]\n",
      " [-6.90133423e-01  6.40025906e+01]]\n"
     ]
    }
   ],
   "source": [
    "opt, cov = curve_fit(linear_line, df.hdlngth, df.totlngth)\n",
    "\n",
    "print(opt)\n",
    "print(cov)"
   ]
  },
  {
   "cell_type": "code",
   "execution_count": 193,
   "id": "5dba82f1",
   "metadata": {},
   "outputs": [
    {
     "data": {
      "text/plain": [
       "[<matplotlib.lines.Line2D at 0x7f9942300820>]"
      ]
     },
     "execution_count": 193,
     "metadata": {},
     "output_type": "execute_result"
    },
    {
     "data": {
      "image/png": "[encoded data removed]",
      "text/plain": [
       "<Figure size 432x288 with 1 Axes>"
      ]
     },
     "metadata": {
      "needs_background": "light"
     },
     "output_type": "display_data"
    }
   ],
   "source": [
    "plt.scatter(df.hdlngth, df.totlngth)\n",
    "\n",
    "plt.plot(df.hdlngth, linear_line(df.hdlngth, opt[0], opt[1]))"
   ]
  },
  {
   "cell_type": "markdown",
   "id": "29da127f",
   "metadata": {},
   "source": [
    "QUESTION 1: How well does the method describe the data?"
   ]
  },
  {
   "cell_type": "markdown",
   "id": "bf1e7c37",
   "metadata": {},
   "source": [
    "ANSWER 1: The method does not really describe the data well. We can see that the the data is scattered all over the graph"
   ]
  },
  {
   "cell_type": "code",
   "execution_count": 194,
   "id": "137a7e1f",
   "metadata": {},
   "outputs": [],
   "source": [
    "femaledata = df.loc[df['sex'] == 'f']"
   ]
  },
  {
   "cell_type": "code",
   "execution_count": 195,
   "id": "9d13555c",
   "metadata": {},
   "outputs": [
    {
     "data": {
      "text/html": [
       "<div>\n",
       "<style scoped>\n",
       "    .dataframe tbody tr th:only-of-type {\n",
       "        vertical-align: middle;\n",
       "    }\n",
       "\n",
       "    .dataframe tbody tr th {\n",
       "        vertical-align: top;\n",
       "    }\n",
       "\n",
       "    .dataframe thead th {\n",
       "        text-align: right;\n",
       "    }\n",
       "</style>\n",
       "<table border=\"1\" class=\"dataframe\">\n",
       "  <thead>\n",
       "    <tr style=\"text-align: right;\">\n",
       "      <th></th>\n",
       "      <th>case</th>\n",
       "      <th>site</th>\n",
       "      <th>Pop</th>\n",
       "      <th>sex</th>\n",
       "      <th>age</th>\n",
       "      <th>hdlngth</th>\n",
       "      <th>skullw</th>\n",
       "      <th>totlngth</th>\n",
       "      <th>taill</th>\n",
       "      <th>footlgth</th>\n",
       "      <th>earconch</th>\n",
       "      <th>eye</th>\n",
       "      <th>chest</th>\n",
       "      <th>belly</th>\n",
       "    </tr>\n",
       "  </thead>\n",
       "  <tbody>\n",
       "    <tr>\n",
       "      <th>1</th>\n",
       "      <td>2</td>\n",
       "      <td>1</td>\n",
       "      <td>Vic</td>\n",
       "      <td>f</td>\n",
       "      <td>6.0</td>\n",
       "      <td>92.5</td>\n",
       "      <td>57.6</td>\n",
       "      <td>91.5</td>\n",
       "      <td>36.5</td>\n",
       "      <td>72.5</td>\n",
       "      <td>51.2</td>\n",
       "      <td>16.0</td>\n",
       "      <td>28.5</td>\n",
       "      <td>33.0</td>\n",
       "    </tr>\n",
       "    <tr>\n",
       "      <th>2</th>\n",
       "      <td>3</td>\n",
       "      <td>1</td>\n",
       "      <td>Vic</td>\n",
       "      <td>f</td>\n",
       "      <td>6.0</td>\n",
       "      <td>94.0</td>\n",
       "      <td>60.0</td>\n",
       "      <td>95.5</td>\n",
       "      <td>39.0</td>\n",
       "      <td>75.4</td>\n",
       "      <td>51.9</td>\n",
       "      <td>15.5</td>\n",
       "      <td>30.0</td>\n",
       "      <td>34.0</td>\n",
       "    </tr>\n",
       "    <tr>\n",
       "      <th>3</th>\n",
       "      <td>4</td>\n",
       "      <td>1</td>\n",
       "      <td>Vic</td>\n",
       "      <td>f</td>\n",
       "      <td>6.0</td>\n",
       "      <td>93.2</td>\n",
       "      <td>57.1</td>\n",
       "      <td>92.0</td>\n",
       "      <td>38.0</td>\n",
       "      <td>76.1</td>\n",
       "      <td>52.2</td>\n",
       "      <td>15.2</td>\n",
       "      <td>28.0</td>\n",
       "      <td>34.0</td>\n",
       "    </tr>\n",
       "    <tr>\n",
       "      <th>4</th>\n",
       "      <td>5</td>\n",
       "      <td>1</td>\n",
       "      <td>Vic</td>\n",
       "      <td>f</td>\n",
       "      <td>2.0</td>\n",
       "      <td>91.5</td>\n",
       "      <td>56.3</td>\n",
       "      <td>85.5</td>\n",
       "      <td>36.0</td>\n",
       "      <td>71.0</td>\n",
       "      <td>53.2</td>\n",
       "      <td>15.1</td>\n",
       "      <td>28.5</td>\n",
       "      <td>33.0</td>\n",
       "    </tr>\n",
       "    <tr>\n",
       "      <th>5</th>\n",
       "      <td>6</td>\n",
       "      <td>1</td>\n",
       "      <td>Vic</td>\n",
       "      <td>f</td>\n",
       "      <td>1.0</td>\n",
       "      <td>93.1</td>\n",
       "      <td>54.8</td>\n",
       "      <td>90.5</td>\n",
       "      <td>35.5</td>\n",
       "      <td>73.2</td>\n",
       "      <td>53.6</td>\n",
       "      <td>14.2</td>\n",
       "      <td>30.0</td>\n",
       "      <td>32.0</td>\n",
       "    </tr>\n",
       "  </tbody>\n",
       "</table>\n",
       "</div>"
      ],
      "text/plain": [
       "   case  site  Pop sex  age  hdlngth  skullw  totlngth  taill  footlgth  \\\n",
       "1     2     1  Vic   f  6.0     92.5    57.6      91.5   36.5      72.5   \n",
       "2     3     1  Vic   f  6.0     94.0    60.0      95.5   39.0      75.4   \n",
       "3     4     1  Vic   f  6.0     93.2    57.1      92.0   38.0      76.1   \n",
       "4     5     1  Vic   f  2.0     91.5    56.3      85.5   36.0      71.0   \n",
       "5     6     1  Vic   f  1.0     93.1    54.8      90.5   35.5      73.2   \n",
       "\n",
       "   earconch   eye  chest  belly  \n",
       "1      51.2  16.0   28.5   33.0  \n",
       "2      51.9  15.5   30.0   34.0  \n",
       "3      52.2  15.2   28.0   34.0  \n",
       "4      53.2  15.1   28.5   33.0  \n",
       "5      53.6  14.2   30.0   32.0  "
      ]
     },
     "execution_count": 195,
     "metadata": {},
     "output_type": "execute_result"
    }
   ],
   "source": [
    "femaledata.head()"
   ]
  },
  {
   "cell_type": "code",
   "execution_count": 196,
   "id": "0179fca3",
   "metadata": {},
   "outputs": [
    {
     "data": {
      "text/plain": [
       "[<matplotlib.lines.Line2D at 0x7f994241d880>]"
      ]
     },
     "execution_count": 196,
     "metadata": {},
     "output_type": "execute_result"
    },
    {
     "data": {
      "image/png": "[encoded data removed]",
      "text/plain": [
       "<Figure size 432x288 with 1 Axes>"
      ]
     },
     "metadata": {
      "needs_background": "light"
     },
     "output_type": "display_data"
    }
   ],
   "source": [
    "plt.scatter(femaledata.hdlngth, femaledata.totlngth)\n",
    "\n",
    "plt.plot(femaledata.hdlngth, linear_line(femaledata.hdlngth, opt[0], opt[1]))"
   ]
  },
  {
   "cell_type": "code",
   "execution_count": 197,
   "id": "d18b70d5",
   "metadata": {},
   "outputs": [
    {
     "name": "stderr",
     "output_type": "stream",
     "text": [
      "/var/folders/12/4pcpnxp94hbggfkh91hkpkl00000gn/T/ipykernel_13822/1437648744.py:1: UserWarning: Pandas doesn't allow columns to be created via a new attribute name - see https://pandas.pydata.org/pandas-docs/stable/indexing.html#attribute-access\n",
      "  femaledata.totlngth_pred = linear_line(femaledata.hdlngth, *opt)\n"
     ]
    }
   ],
   "source": [
    "femaledata.totlngth_pred = linear_line(femaledata.hdlngth, *opt)"
   ]
  },
  {
   "cell_type": "code",
   "execution_count": 198,
   "id": "7e2b18d1",
   "metadata": {},
   "outputs": [
    {
     "name": "stdout",
     "output_type": "stream",
     "text": [
      "0.4526029275679738\n",
      "9.351934083858993\n"
     ]
    }
   ],
   "source": [
    "print(r2_score(femaledata.totlngth, femaledata.totlngth_pred))\n",
    "print(mean_squared_error(femaledata.totlngth, femaledata.totlngth_pred))"
   ]
  },
  {
   "cell_type": "code",
   "execution_count": 199,
   "id": "3764a03a",
   "metadata": {},
   "outputs": [],
   "source": [
    "maledata = df.loc[df['sex'] == 'm']"
   ]
  },
  {
   "cell_type": "code",
   "execution_count": 200,
   "id": "b39bb284",
   "metadata": {},
   "outputs": [
    {
     "data": {
      "text/html": [
       "<div>\n",
       "<style scoped>\n",
       "    .dataframe tbody tr th:only-of-type {\n",
       "        vertical-align: middle;\n",
       "    }\n",
       "\n",
       "    .dataframe tbody tr th {\n",
       "        vertical-align: top;\n",
       "    }\n",
       "\n",
       "    .dataframe thead th {\n",
       "        text-align: right;\n",
       "    }\n",
       "</style>\n",
       "<table border=\"1\" class=\"dataframe\">\n",
       "  <thead>\n",
       "    <tr style=\"text-align: right;\">\n",
       "      <th></th>\n",
       "      <th>case</th>\n",
       "      <th>site</th>\n",
       "      <th>Pop</th>\n",
       "      <th>sex</th>\n",
       "      <th>age</th>\n",
       "      <th>hdlngth</th>\n",
       "      <th>skullw</th>\n",
       "      <th>totlngth</th>\n",
       "      <th>taill</th>\n",
       "      <th>footlgth</th>\n",
       "      <th>earconch</th>\n",
       "      <th>eye</th>\n",
       "      <th>chest</th>\n",
       "      <th>belly</th>\n",
       "    </tr>\n",
       "  </thead>\n",
       "  <tbody>\n",
       "    <tr>\n",
       "      <th>0</th>\n",
       "      <td>1</td>\n",
       "      <td>1</td>\n",
       "      <td>Vic</td>\n",
       "      <td>m</td>\n",
       "      <td>8.0</td>\n",
       "      <td>94.1</td>\n",
       "      <td>60.4</td>\n",
       "      <td>89.0</td>\n",
       "      <td>36.0</td>\n",
       "      <td>74.5</td>\n",
       "      <td>54.5</td>\n",
       "      <td>15.2</td>\n",
       "      <td>28.0</td>\n",
       "      <td>36.0</td>\n",
       "    </tr>\n",
       "    <tr>\n",
       "      <th>6</th>\n",
       "      <td>7</td>\n",
       "      <td>1</td>\n",
       "      <td>Vic</td>\n",
       "      <td>m</td>\n",
       "      <td>2.0</td>\n",
       "      <td>95.3</td>\n",
       "      <td>58.2</td>\n",
       "      <td>89.5</td>\n",
       "      <td>36.0</td>\n",
       "      <td>71.5</td>\n",
       "      <td>52.0</td>\n",
       "      <td>14.2</td>\n",
       "      <td>30.0</td>\n",
       "      <td>34.5</td>\n",
       "    </tr>\n",
       "    <tr>\n",
       "      <th>12</th>\n",
       "      <td>13</td>\n",
       "      <td>1</td>\n",
       "      <td>Vic</td>\n",
       "      <td>m</td>\n",
       "      <td>5.0</td>\n",
       "      <td>95.1</td>\n",
       "      <td>59.9</td>\n",
       "      <td>89.5</td>\n",
       "      <td>36.0</td>\n",
       "      <td>71.0</td>\n",
       "      <td>49.8</td>\n",
       "      <td>15.8</td>\n",
       "      <td>27.0</td>\n",
       "      <td>32.0</td>\n",
       "    </tr>\n",
       "    <tr>\n",
       "      <th>13</th>\n",
       "      <td>14</td>\n",
       "      <td>1</td>\n",
       "      <td>Vic</td>\n",
       "      <td>m</td>\n",
       "      <td>3.0</td>\n",
       "      <td>95.4</td>\n",
       "      <td>57.6</td>\n",
       "      <td>91.5</td>\n",
       "      <td>36.0</td>\n",
       "      <td>74.3</td>\n",
       "      <td>53.7</td>\n",
       "      <td>15.1</td>\n",
       "      <td>28.0</td>\n",
       "      <td>31.5</td>\n",
       "    </tr>\n",
       "    <tr>\n",
       "      <th>14</th>\n",
       "      <td>15</td>\n",
       "      <td>1</td>\n",
       "      <td>Vic</td>\n",
       "      <td>m</td>\n",
       "      <td>5.0</td>\n",
       "      <td>92.9</td>\n",
       "      <td>57.6</td>\n",
       "      <td>85.5</td>\n",
       "      <td>34.0</td>\n",
       "      <td>69.7</td>\n",
       "      <td>51.8</td>\n",
       "      <td>15.7</td>\n",
       "      <td>28.0</td>\n",
       "      <td>35.0</td>\n",
       "    </tr>\n",
       "  </tbody>\n",
       "</table>\n",
       "</div>"
      ],
      "text/plain": [
       "    case  site  Pop sex  age  hdlngth  skullw  totlngth  taill  footlgth  \\\n",
       "0      1     1  Vic   m  8.0     94.1    60.4      89.0   36.0      74.5   \n",
       "6      7     1  Vic   m  2.0     95.3    58.2      89.5   36.0      71.5   \n",
       "12    13     1  Vic   m  5.0     95.1    59.9      89.5   36.0      71.0   \n",
       "13    14     1  Vic   m  3.0     95.4    57.6      91.5   36.0      74.3   \n",
       "14    15     1  Vic   m  5.0     92.9    57.6      85.5   34.0      69.7   \n",
       "\n",
       "    earconch   eye  chest  belly  \n",
       "0       54.5  15.2   28.0   36.0  \n",
       "6       52.0  14.2   30.0   34.5  \n",
       "12      49.8  15.8   27.0   32.0  \n",
       "13      53.7  15.1   28.0   31.5  \n",
       "14      51.8  15.7   28.0   35.0  "
      ]
     },
     "execution_count": 200,
     "metadata": {},
     "output_type": "execute_result"
    }
   ],
   "source": [
    "maledata.head()"
   ]
  },
  {
   "cell_type": "code",
   "execution_count": 201,
   "id": "dad61e32",
   "metadata": {},
   "outputs": [
    {
     "name": "stdout",
     "output_type": "stream",
     "text": [
      "[ 0.75492169 16.36192412]\n",
      "[[ 9.08937276e-03 -8.44611332e-01]\n",
      " [-8.44611332e-01  7.86360025e+01]]\n"
     ]
    }
   ],
   "source": [
    "opt, cov = curve_fit(linear_line,  maledata.hdlngth, maledata.totlngth)\n",
    "\n",
    "print(opt)\n",
    "print(cov)"
   ]
  },
  {
   "cell_type": "code",
   "execution_count": 202,
   "id": "37e43f50",
   "metadata": {},
   "outputs": [
    {
     "data": {
      "text/plain": [
       "[<matplotlib.lines.Line2D at 0x7f98f063aac0>]"
      ]
     },
     "execution_count": 202,
     "metadata": {},
     "output_type": "execute_result"
    },
    {
     "data": {
      "image/png": "[encoded data removed]",
      "text/plain": [
       "<Figure size 432x288 with 1 Axes>"
      ]
     },
     "metadata": {
      "needs_background": "light"
     },
     "output_type": "display_data"
    }
   ],
   "source": [
    "plt.scatter(maledata.hdlngth, maledata.totlngth)\n",
    "\n",
    "plt.plot(maledata.hdlngth, linear_line(maledata.hdlngth, opt[0], opt[1]))"
   ]
  },
  {
   "cell_type": "code",
   "execution_count": 203,
   "id": "e1210112",
   "metadata": {},
   "outputs": [
    {
     "name": "stderr",
     "output_type": "stream",
     "text": [
      "/var/folders/12/4pcpnxp94hbggfkh91hkpkl00000gn/T/ipykernel_13822/2062638031.py:1: UserWarning: Pandas doesn't allow columns to be created via a new attribute name - see https://pandas.pydata.org/pandas-docs/stable/indexing.html#attribute-access\n",
      "  maledata.totlngth_pred = linear_line(maledata.hdlngth, *opt)\n"
     ]
    }
   ],
   "source": [
    "maledata.totlngth_pred = linear_line(maledata.hdlngth, *opt)"
   ]
  },
  {
   "cell_type": "code",
   "execution_count": 204,
   "id": "8887c63b",
   "metadata": {},
   "outputs": [
    {
     "name": "stdout",
     "output_type": "stream",
     "text": [
      "0.5152026478596556\n",
      "8.981323695188028\n"
     ]
    }
   ],
   "source": [
    "print(r2_score(maledata.totlngth, maledata.totlngth_pred))\n",
    "print(mean_squared_error(maledata.totlngth, maledata.totlngth_pred))"
   ]
  },
  {
   "cell_type": "markdown",
   "id": "97a63d82",
   "metadata": {},
   "source": [
    "QUESTION 2: If you perform regression for male and female possums separately, does this increase our accuracy?"
   ]
  },
  {
   "cell_type": "markdown",
   "id": "d888a952",
   "metadata": {},
   "source": [
    "ANSWER 2: The accuracy is a little better than what it was before we split the data by gender. This method is still not that good as the data is still scattered around in wide range on the graph"
   ]
  },
  {
   "cell_type": "code",
   "execution_count": 205,
   "id": "b26c7631",
   "metadata": {},
   "outputs": [
    {
     "data": {
      "text/html": [
       "<div>\n",
       "<style scoped>\n",
       "    .dataframe tbody tr th:only-of-type {\n",
       "        vertical-align: middle;\n",
       "    }\n",
       "\n",
       "    .dataframe tbody tr th {\n",
       "        vertical-align: top;\n",
       "    }\n",
       "\n",
       "    .dataframe thead th {\n",
       "        text-align: right;\n",
       "    }\n",
       "</style>\n",
       "<table border=\"1\" class=\"dataframe\">\n",
       "  <thead>\n",
       "    <tr style=\"text-align: right;\">\n",
       "      <th></th>\n",
       "      <th>case</th>\n",
       "      <th>site</th>\n",
       "      <th>Pop</th>\n",
       "      <th>sex</th>\n",
       "      <th>age</th>\n",
       "      <th>hdlngth</th>\n",
       "      <th>skullw</th>\n",
       "      <th>totlngth</th>\n",
       "      <th>taill</th>\n",
       "      <th>footlgth</th>\n",
       "      <th>earconch</th>\n",
       "      <th>eye</th>\n",
       "      <th>chest</th>\n",
       "      <th>belly</th>\n",
       "    </tr>\n",
       "  </thead>\n",
       "  <tbody>\n",
       "    <tr>\n",
       "      <th>0</th>\n",
       "      <td>1</td>\n",
       "      <td>1</td>\n",
       "      <td>Vic</td>\n",
       "      <td>m</td>\n",
       "      <td>8.0</td>\n",
       "      <td>94.1</td>\n",
       "      <td>60.4</td>\n",
       "      <td>89.0</td>\n",
       "      <td>36.0</td>\n",
       "      <td>74.5</td>\n",
       "      <td>54.5</td>\n",
       "      <td>15.2</td>\n",
       "      <td>28.0</td>\n",
       "      <td>36.0</td>\n",
       "    </tr>\n",
       "    <tr>\n",
       "      <th>1</th>\n",
       "      <td>2</td>\n",
       "      <td>1</td>\n",
       "      <td>Vic</td>\n",
       "      <td>f</td>\n",
       "      <td>6.0</td>\n",
       "      <td>92.5</td>\n",
       "      <td>57.6</td>\n",
       "      <td>91.5</td>\n",
       "      <td>36.5</td>\n",
       "      <td>72.5</td>\n",
       "      <td>51.2</td>\n",
       "      <td>16.0</td>\n",
       "      <td>28.5</td>\n",
       "      <td>33.0</td>\n",
       "    </tr>\n",
       "    <tr>\n",
       "      <th>2</th>\n",
       "      <td>3</td>\n",
       "      <td>1</td>\n",
       "      <td>Vic</td>\n",
       "      <td>f</td>\n",
       "      <td>6.0</td>\n",
       "      <td>94.0</td>\n",
       "      <td>60.0</td>\n",
       "      <td>95.5</td>\n",
       "      <td>39.0</td>\n",
       "      <td>75.4</td>\n",
       "      <td>51.9</td>\n",
       "      <td>15.5</td>\n",
       "      <td>30.0</td>\n",
       "      <td>34.0</td>\n",
       "    </tr>\n",
       "    <tr>\n",
       "      <th>3</th>\n",
       "      <td>4</td>\n",
       "      <td>1</td>\n",
       "      <td>Vic</td>\n",
       "      <td>f</td>\n",
       "      <td>6.0</td>\n",
       "      <td>93.2</td>\n",
       "      <td>57.1</td>\n",
       "      <td>92.0</td>\n",
       "      <td>38.0</td>\n",
       "      <td>76.1</td>\n",
       "      <td>52.2</td>\n",
       "      <td>15.2</td>\n",
       "      <td>28.0</td>\n",
       "      <td>34.0</td>\n",
       "    </tr>\n",
       "    <tr>\n",
       "      <th>4</th>\n",
       "      <td>5</td>\n",
       "      <td>1</td>\n",
       "      <td>Vic</td>\n",
       "      <td>f</td>\n",
       "      <td>2.0</td>\n",
       "      <td>91.5</td>\n",
       "      <td>56.3</td>\n",
       "      <td>85.5</td>\n",
       "      <td>36.0</td>\n",
       "      <td>71.0</td>\n",
       "      <td>53.2</td>\n",
       "      <td>15.1</td>\n",
       "      <td>28.5</td>\n",
       "      <td>33.0</td>\n",
       "    </tr>\n",
       "  </tbody>\n",
       "</table>\n",
       "</div>"
      ],
      "text/plain": [
       "   case  site  Pop sex  age  hdlngth  skullw  totlngth  taill  footlgth  \\\n",
       "0     1     1  Vic   m  8.0     94.1    60.4      89.0   36.0      74.5   \n",
       "1     2     1  Vic   f  6.0     92.5    57.6      91.5   36.5      72.5   \n",
       "2     3     1  Vic   f  6.0     94.0    60.0      95.5   39.0      75.4   \n",
       "3     4     1  Vic   f  6.0     93.2    57.1      92.0   38.0      76.1   \n",
       "4     5     1  Vic   f  2.0     91.5    56.3      85.5   36.0      71.0   \n",
       "\n",
       "   earconch   eye  chest  belly  \n",
       "0      54.5  15.2   28.0   36.0  \n",
       "1      51.2  16.0   28.5   33.0  \n",
       "2      51.9  15.5   30.0   34.0  \n",
       "3      52.2  15.2   28.0   34.0  \n",
       "4      53.2  15.1   28.5   33.0  "
      ]
     },
     "execution_count": 205,
     "metadata": {},
     "output_type": "execute_result"
    }
   ],
   "source": [
    "df.head()"
   ]
  },
  {
   "cell_type": "code",
   "execution_count": 206,
   "id": "3d86feb8",
   "metadata": {},
   "outputs": [],
   "source": [
    "df = df.dropna()"
   ]
  },
  {
   "cell_type": "code",
   "execution_count": 207,
   "id": "1ce23917",
   "metadata": {},
   "outputs": [],
   "source": [
    "lasso_hdlngth = np.array(df.hdlngth).reshape(-1,1)"
   ]
  },
  {
   "cell_type": "code",
   "execution_count": 208,
   "id": "c84e1cf4",
   "metadata": {},
   "outputs": [],
   "source": [
    "df['sex_num'] = df['sex'].replace(['f','m'],\n",
    "                        [0, 1], inplace=False)"
   ]
  },
  {
   "cell_type": "code",
   "execution_count": 209,
   "id": "44feb18d",
   "metadata": {},
   "outputs": [
    {
     "name": "stdout",
     "output_type": "stream",
     "text": [
      "[0 1 1 1 0 0 0 1 0 1 0 0 1 1 0 0 0 1 1 1 0]\n"
     ]
    }
   ],
   "source": [
    "train, test=train_test_split(df,test_size=0.2,random_state=1010)\n",
    "\n",
    "x = train[['skullw', 'footlgth', 'taill', 'earconch', 'eye', 'chest', 'belly', 'age']].values\n",
    "y = train['sex'].values\n",
    "y_num = train['sex_num'].values\n",
    "\n",
    "test_x = test[['skullw', 'footlgth', 'taill', 'earconch', 'eye', 'chest', 'belly', 'age']].values\n",
    "test_y = test['sex'].values\n",
    "test_y_num = test['sex_num'].values\n",
    "\n",
    "print(test_y_num)"
   ]
  },
  {
   "cell_type": "code",
   "execution_count": 210,
   "id": "8c4f5b92",
   "metadata": {},
   "outputs": [],
   "source": [
    "#df = df.replace(-np.inf, np.nan)"
   ]
  },
  {
   "cell_type": "code",
   "execution_count": 211,
   "id": "d9613f2b",
   "metadata": {},
   "outputs": [
    {
     "data": {
      "text/html": [
       "<div>\n",
       "<style scoped>\n",
       "    .dataframe tbody tr th:only-of-type {\n",
       "        vertical-align: middle;\n",
       "    }\n",
       "\n",
       "    .dataframe tbody tr th {\n",
       "        vertical-align: top;\n",
       "    }\n",
       "\n",
       "    .dataframe thead th {\n",
       "        text-align: right;\n",
       "    }\n",
       "</style>\n",
       "<table border=\"1\" class=\"dataframe\">\n",
       "  <thead>\n",
       "    <tr style=\"text-align: right;\">\n",
       "      <th></th>\n",
       "      <th>case</th>\n",
       "      <th>site</th>\n",
       "      <th>Pop</th>\n",
       "      <th>sex</th>\n",
       "      <th>age</th>\n",
       "      <th>hdlngth</th>\n",
       "      <th>skullw</th>\n",
       "      <th>totlngth</th>\n",
       "      <th>taill</th>\n",
       "      <th>footlgth</th>\n",
       "      <th>earconch</th>\n",
       "      <th>eye</th>\n",
       "      <th>chest</th>\n",
       "      <th>belly</th>\n",
       "      <th>sex_num</th>\n",
       "    </tr>\n",
       "  </thead>\n",
       "  <tbody>\n",
       "    <tr>\n",
       "      <th>0</th>\n",
       "      <td>1</td>\n",
       "      <td>1</td>\n",
       "      <td>Vic</td>\n",
       "      <td>m</td>\n",
       "      <td>8.0</td>\n",
       "      <td>94.1</td>\n",
       "      <td>60.4</td>\n",
       "      <td>89.0</td>\n",
       "      <td>36.0</td>\n",
       "      <td>74.5</td>\n",
       "      <td>54.5</td>\n",
       "      <td>15.2</td>\n",
       "      <td>28.0</td>\n",
       "      <td>36.0</td>\n",
       "      <td>1</td>\n",
       "    </tr>\n",
       "    <tr>\n",
       "      <th>1</th>\n",
       "      <td>2</td>\n",
       "      <td>1</td>\n",
       "      <td>Vic</td>\n",
       "      <td>f</td>\n",
       "      <td>6.0</td>\n",
       "      <td>92.5</td>\n",
       "      <td>57.6</td>\n",
       "      <td>91.5</td>\n",
       "      <td>36.5</td>\n",
       "      <td>72.5</td>\n",
       "      <td>51.2</td>\n",
       "      <td>16.0</td>\n",
       "      <td>28.5</td>\n",
       "      <td>33.0</td>\n",
       "      <td>0</td>\n",
       "    </tr>\n",
       "    <tr>\n",
       "      <th>2</th>\n",
       "      <td>3</td>\n",
       "      <td>1</td>\n",
       "      <td>Vic</td>\n",
       "      <td>f</td>\n",
       "      <td>6.0</td>\n",
       "      <td>94.0</td>\n",
       "      <td>60.0</td>\n",
       "      <td>95.5</td>\n",
       "      <td>39.0</td>\n",
       "      <td>75.4</td>\n",
       "      <td>51.9</td>\n",
       "      <td>15.5</td>\n",
       "      <td>30.0</td>\n",
       "      <td>34.0</td>\n",
       "      <td>0</td>\n",
       "    </tr>\n",
       "    <tr>\n",
       "      <th>3</th>\n",
       "      <td>4</td>\n",
       "      <td>1</td>\n",
       "      <td>Vic</td>\n",
       "      <td>f</td>\n",
       "      <td>6.0</td>\n",
       "      <td>93.2</td>\n",
       "      <td>57.1</td>\n",
       "      <td>92.0</td>\n",
       "      <td>38.0</td>\n",
       "      <td>76.1</td>\n",
       "      <td>52.2</td>\n",
       "      <td>15.2</td>\n",
       "      <td>28.0</td>\n",
       "      <td>34.0</td>\n",
       "      <td>0</td>\n",
       "    </tr>\n",
       "    <tr>\n",
       "      <th>4</th>\n",
       "      <td>5</td>\n",
       "      <td>1</td>\n",
       "      <td>Vic</td>\n",
       "      <td>f</td>\n",
       "      <td>2.0</td>\n",
       "      <td>91.5</td>\n",
       "      <td>56.3</td>\n",
       "      <td>85.5</td>\n",
       "      <td>36.0</td>\n",
       "      <td>71.0</td>\n",
       "      <td>53.2</td>\n",
       "      <td>15.1</td>\n",
       "      <td>28.5</td>\n",
       "      <td>33.0</td>\n",
       "      <td>0</td>\n",
       "    </tr>\n",
       "  </tbody>\n",
       "</table>\n",
       "</div>"
      ],
      "text/plain": [
       "   case  site  Pop sex  age  hdlngth  skullw  totlngth  taill  footlgth  \\\n",
       "0     1     1  Vic   m  8.0     94.1    60.4      89.0   36.0      74.5   \n",
       "1     2     1  Vic   f  6.0     92.5    57.6      91.5   36.5      72.5   \n",
       "2     3     1  Vic   f  6.0     94.0    60.0      95.5   39.0      75.4   \n",
       "3     4     1  Vic   f  6.0     93.2    57.1      92.0   38.0      76.1   \n",
       "4     5     1  Vic   f  2.0     91.5    56.3      85.5   36.0      71.0   \n",
       "\n",
       "   earconch   eye  chest  belly  sex_num  \n",
       "0      54.5  15.2   28.0   36.0        1  \n",
       "1      51.2  16.0   28.5   33.0        0  \n",
       "2      51.9  15.5   30.0   34.0        0  \n",
       "3      52.2  15.2   28.0   34.0        0  \n",
       "4      53.2  15.1   28.5   33.0        0  "
      ]
     },
     "execution_count": 211,
     "metadata": {},
     "output_type": "execute_result"
    }
   ],
   "source": [
    "df.head()"
   ]
  },
  {
   "cell_type": "code",
   "execution_count": 212,
   "id": "dc23d5b2",
   "metadata": {},
   "outputs": [
    {
     "data": {
      "text/plain": [
       "Lasso(alpha=0.11)"
      ]
     },
     "execution_count": 212,
     "metadata": {},
     "output_type": "execute_result"
    }
   ],
   "source": [
    "lasso = Lasso(alpha=0.11)\n",
    "lasso.fit(x, y_num)"
   ]
  },
  {
   "cell_type": "code",
   "execution_count": 213,
   "id": "ecb568d5",
   "metadata": {},
   "outputs": [],
   "source": [
    "lasso_train= lasso.predict(x)\n",
    "lasso_test= lasso.predict(test_x)"
   ]
  },
  {
   "cell_type": "code",
   "execution_count": 214,
   "id": "23c1d9be",
   "metadata": {},
   "outputs": [
    {
     "name": "stdout",
     "output_type": "stream",
     "text": [
      "[ 0.         -0.00870924 -0.         -0.00084546  0.00045762 -0.\n",
      " -0.         -0.        ]\n"
     ]
    }
   ],
   "source": [
    "print(lasso.coef_)"
   ]
  },
  {
   "cell_type": "markdown",
   "id": "067f3bcc",
   "metadata": {},
   "source": [
    "QUESTION 3: What are the three best classifiers?"
   ]
  },
  {
   "cell_type": "markdown",
   "id": "64c753e6",
   "metadata": {},
   "source": [
    "ANSWER 3: The three beat classifiers is the foot length, earconch and eye!"
   ]
  },
  {
   "cell_type": "code",
   "execution_count": 215,
   "id": "27ca3da8",
   "metadata": {},
   "outputs": [
    {
     "data": {
      "text/plain": [
       "<matplotlib.legend.Legend at 0x7f9921470a00>"
      ]
     },
     "execution_count": 215,
     "metadata": {},
     "output_type": "execute_result"
    },
    {
     "data": {
      "image/png": "[encoded data removed]",
      "text/plain": [
       "<Figure size 288x288 with 1 Axes>"
      ]
     },
     "metadata": {
      "needs_background": "light"
     },
     "output_type": "display_data"
    }
   ],
   "source": [
    "plt.figure(figsize=(4,4))\n",
    "\n",
    "plt.scatter(y_num,lasso_train, label='train')\n",
    "plt.scatter(test_y_num,lasso_test,color='r', label='test')\n",
    "plt.plot([0,3],[0,3],lw=4,color='black')\n",
    "plt.legend()"
   ]
  },
  {
   "cell_type": "code",
   "execution_count": 216,
   "id": "de48892b",
   "metadata": {},
   "outputs": [
    {
     "data": {
      "text/plain": [
       "[<matplotlib.lines.Line2D at 0x7f9921524820>]"
      ]
     },
     "execution_count": 216,
     "metadata": {},
     "output_type": "execute_result"
    },
    {
     "data": {
      "image/png": "[encoded data removed]",
      "text/plain": [
       "<Figure size 288x288 with 1 Axes>"
      ]
     },
     "metadata": {
      "needs_background": "light"
     },
     "output_type": "display_data"
    }
   ],
   "source": [
    "plt.figure(figsize=(4,4))\n",
    "sns.violinplot(x=y_num,y=lasso_train,data=df, xlim=[0,3])\n",
    "plt.scatter(y_num,lasso_train,color='r')\n",
    "plt.plot([0,3],[0,3],lw=2,color='black')"
   ]
  },
  {
   "cell_type": "code",
   "execution_count": 217,
   "id": "f1284c37",
   "metadata": {},
   "outputs": [
    {
     "data": {
      "text/plain": [
       "[<matplotlib.lines.Line2D at 0x7f992159c100>]"
      ]
     },
     "execution_count": 217,
     "metadata": {},
     "output_type": "execute_result"
    },
    {
     "data": {
      "image/png": "[encoded data removed]",
      "text/plain": [
       "<Figure size 288x288 with 1 Axes>"
      ]
     },
     "metadata": {
      "needs_background": "light"
     },
     "output_type": "display_data"
    }
   ],
   "source": [
    "plt.figure(figsize=(4,4))\n",
    "sns.violinplot(x=test_y_num,y=lasso_test,data=df, xlim=[0,3])\n",
    "plt.scatter(test_y_num,lasso_test,color='r')\n",
    "plt.plot([0,3],[0,3],lw=2,color='black')"
   ]
  },
  {
   "cell_type": "code",
   "execution_count": 218,
   "id": "1872e56e",
   "metadata": {},
   "outputs": [
    {
     "name": "stdout",
     "output_type": "stream",
     "text": [
      "Train error 0.23364572681037848\n",
      "Train R-sq 0.015580874531651023\n",
      "\n",
      "Test error 0.26279954887651874\n",
      "Test R-sq -0.05358728231404353\n"
     ]
    }
   ],
   "source": [
    "print(\"Train error\",mean_squared_error(y_num,lasso_train))\n",
    "print(\"Train R-sq\",r2_score(y_num,lasso_train))\n",
    "\n",
    "print(\"\\nTest error\",mean_squared_error(test_y_num,lasso_test))\n",
    "print(\"Test R-sq\",r2_score(test_y_num,lasso_test))"
   ]
  },
  {
   "cell_type": "markdown",
   "id": "c6414971",
   "metadata": {},
   "source": [
    "Use logistic regression to determine whether a possum is male or female, then use a different classification method. Make sure to visualize the data."
   ]
  },
  {
   "cell_type": "code",
   "execution_count": 219,
   "id": "f4bc2391",
   "metadata": {},
   "outputs": [
    {
     "data": {
      "text/plain": [
       "<matplotlib.collections.PathCollection at 0x7f994241db50>"
      ]
     },
     "execution_count": 219,
     "metadata": {},
     "output_type": "execute_result"
    },
    {
     "data": {
      "image/png": "[encoded data removed]",
      "text/plain": [
       "<Figure size 432x288 with 1 Axes>"
      ]
     },
     "metadata": {
      "needs_background": "light"
     },
     "output_type": "display_data"
    }
   ],
   "source": [
    "plt.scatter(df[\"totlngth\"], df[\"sex_num\"])"
   ]
  },
  {
   "cell_type": "markdown",
   "id": "c34e3fea",
   "metadata": {},
   "source": [
    "Pick 2 classification methods discussed in class and use them to classify possums by either collection site # or population. Make sure to visualize each of your classification attempts."
   ]
  },
  {
   "cell_type": "code",
   "execution_count": 220,
   "id": "1908289e",
   "metadata": {},
   "outputs": [],
   "source": [
    "x_train,x_test,y_train,y_test=train_test_split(df[\"totlngth\"],df[\"sex_num\"],test_size=0.2,random_state=0)"
   ]
  },
  {
   "cell_type": "code",
   "execution_count": 221,
   "id": "9424e95c",
   "metadata": {},
   "outputs": [],
   "source": [
    "x_train = np.array(x_train).reshape(-1,1)\n",
    "x_test = np.array(x_test).reshape(-1,1)"
   ]
  },
  {
   "cell_type": "code",
   "execution_count": 222,
   "id": "15a9f52d",
   "metadata": {},
   "outputs": [],
   "source": [
    "logreg = LogisticRegression()"
   ]
  },
  {
   "cell_type": "code",
   "execution_count": 223,
   "id": "1bce42bc",
   "metadata": {},
   "outputs": [
    {
     "name": "stdout",
     "output_type": "stream",
     "text": [
      "[[86. ]\n",
      " [92. ]\n",
      " [89. ]\n",
      " [85. ]\n",
      " [93.5]\n",
      " [89.5]\n",
      " [89. ]\n",
      " [86.5]\n",
      " [84. ]\n",
      " [89.5]\n",
      " [80.5]\n",
      " [88.5]\n",
      " [80.5]\n",
      " [92.5]\n",
      " [87. ]\n",
      " [90.5]\n",
      " [88. ]\n",
      " [85. ]\n",
      " [81. ]\n",
      " [91.5]\n",
      " [88.5]\n",
      " [81. ]\n",
      " [81. ]\n",
      " [85.5]\n",
      " [86. ]\n",
      " [90. ]\n",
      " [77. ]\n",
      " [75. ]\n",
      " [90.5]\n",
      " [83. ]\n",
      " [88.5]\n",
      " [89. ]\n",
      " [85. ]\n",
      " [88. ]\n",
      " [91.5]\n",
      " [92. ]\n",
      " [88. ]\n",
      " [84. ]\n",
      " [93.7]\n",
      " [89.5]\n",
      " [94. ]\n",
      " [87. ]\n",
      " [86. ]\n",
      " [81.5]\n",
      " [84.5]\n",
      " [89. ]\n",
      " [87.5]\n",
      " [85.5]\n",
      " [84. ]\n",
      " [89. ]\n",
      " [84. ]\n",
      " [91. ]\n",
      " [89. ]\n",
      " [82.5]\n",
      " [82. ]\n",
      " [96.5]\n",
      " [86.5]\n",
      " [89. ]\n",
      " [85.5]\n",
      " [90. ]\n",
      " [80.5]\n",
      " [92. ]\n",
      " [88. ]\n",
      " [84.5]\n",
      " [88. ]\n",
      " [90.5]\n",
      " [89.5]\n",
      " [82. ]\n",
      " [85. ]\n",
      " [83. ]\n",
      " [89. ]\n",
      " [82.5]\n",
      " [91. ]\n",
      " [93. ]\n",
      " [89.5]\n",
      " [82.5]\n",
      " [90. ]\n",
      " [88.5]\n",
      " [85. ]\n",
      " [85. ]]\n",
      "[0 0 1 1 1 1 0 0 1 0 1 1 1 1 1 0 0 1 1 0 0 1 0 0 1 1 1 0 0 1 0 1 1 0 1 0 1\n",
      " 1 1 0 0 0 1 0 1 1 0 1 1 0 0 0 0 1 1 0 0 1 1 1 1 1 0 0 1 0 1 1 1 0 1 0 1 1\n",
      " 0 1 1 1 0 1]\n"
     ]
    }
   ],
   "source": [
    "print(x_train)\n",
    "print(np.array(y_train))"
   ]
  },
  {
   "cell_type": "code",
   "execution_count": 224,
   "id": "9eae7854",
   "metadata": {},
   "outputs": [
    {
     "data": {
      "text/plain": [
       "LogisticRegression()"
      ]
     },
     "execution_count": 224,
     "metadata": {},
     "output_type": "execute_result"
    }
   ],
   "source": [
    "logreg.fit(x_train,y_train)"
   ]
  },
  {
   "cell_type": "code",
   "execution_count": 225,
   "id": "92d46e71",
   "metadata": {},
   "outputs": [],
   "source": [
    "x_line = np.linspace(30,110,1000)\n",
    "y_line = x_line * logreg.coef_ + logreg.intercept_"
   ]
  },
  {
   "cell_type": "code",
   "execution_count": 226,
   "id": "dbcd9caf",
   "metadata": {},
   "outputs": [],
   "source": [
    "sigmoid = expit(y_line)"
   ]
  },
  {
   "cell_type": "code",
   "execution_count": 227,
   "id": "b79894a3",
   "metadata": {},
   "outputs": [
    {
     "data": {
      "text/plain": [
       "Text(0, 0.5, 'sex_num')"
      ]
     },
     "execution_count": 227,
     "metadata": {},
     "output_type": "execute_result"
    },
    {
     "data": {
      "image/png": "[encoded data removed]",
      "text/plain": [
       "<Figure size 432x288 with 1 Axes>"
      ]
     },
     "metadata": {
      "needs_background": "light"
     },
     "output_type": "display_data"
    }
   ],
   "source": [
    "plt.scatter(x_train, y_train, label=\"training data\")\n",
    "plt.scatter(x_test, y_test, label=\"testing data\")\n",
    "plt.plot(x_line,sigmoid.ravel(),c=\"green\", label = \"logistic fit\")\n",
    "plt.axhline(.5, color=\"red\", label=\"cutoff\")\n",
    "plt.legend()\n",
    "plt.xlabel(\"totlngth\")\n",
    "plt.ylabel(\"sex_num\")"
   ]
  },
  {
   "cell_type": "code",
   "execution_count": 228,
   "id": "513a8b70",
   "metadata": {},
   "outputs": [],
   "source": [
    "y_pred = logreg.predict(x_test)"
   ]
  },
  {
   "cell_type": "code",
   "execution_count": 229,
   "id": "da7bf314",
   "metadata": {},
   "outputs": [
    {
     "name": "stdout",
     "output_type": "stream",
     "text": [
      "-0.8173076923076925\n",
      "0.42857142857142855\n"
     ]
    }
   ],
   "source": [
    "print(r2_score(y_test, y_pred))\n",
    "print(mean_squared_error(y_test, y_pred))"
   ]
  },
  {
   "cell_type": "code",
   "execution_count": 230,
   "id": "d74e74e2",
   "metadata": {},
   "outputs": [
    {
     "data": {
      "text/plain": [
       "DecisionTreeRegressor(max_depth=4)"
      ]
     },
     "execution_count": 230,
     "metadata": {},
     "output_type": "execute_result"
    }
   ],
   "source": [
    "dt = tree.DecisionTreeRegressor(max_depth=4)\n",
    "dt.fit(x,y_num)"
   ]
  },
  {
   "cell_type": "code",
   "execution_count": 231,
   "id": "a5807bbd",
   "metadata": {},
   "outputs": [],
   "source": [
    "dt_train=dt.predict(x)\n",
    "dt_test=dt.predict(test_x)"
   ]
  },
  {
   "cell_type": "code",
   "execution_count": 232,
   "id": "dd64a87f",
   "metadata": {},
   "outputs": [
    {
     "data": {
      "text/plain": [
       "[<matplotlib.lines.Line2D at 0x7f9916492d60>]"
      ]
     },
     "execution_count": 232,
     "metadata": {},
     "output_type": "execute_result"
    },
    {
     "data": {
      "image/png": "[encoded data removed]",
      "text/plain": [
       "<Figure size 288x288 with 1 Axes>"
      ]
     },
     "metadata": {
      "needs_background": "light"
     },
     "output_type": "display_data"
    }
   ],
   "source": [
    "plt.figure(figsize=(4,4))\n",
    "\n",
    "plt.scatter(y_num, dt_train)\n",
    "plt.scatter(test_y_num, dt_test,color='r')\n",
    "plt.plot([0,3],[0,3],lw=4,color='black')"
   ]
  },
  {
   "cell_type": "code",
   "execution_count": 233,
   "id": "613975e6",
   "metadata": {},
   "outputs": [
    {
     "data": {
      "text/plain": [
       "[<matplotlib.lines.Line2D at 0x7f9921394100>]"
      ]
     },
     "execution_count": 233,
     "metadata": {},
     "output_type": "execute_result"
    },
    {
     "data": {
      "image/png": "[encoded data removed]",
      "text/plain": [
       "<Figure size 288x288 with 1 Axes>"
      ]
     },
     "metadata": {
      "needs_background": "light"
     },
     "output_type": "display_data"
    }
   ],
   "source": [
    "plt.figure(figsize=(4,4))\n",
    "sns.violinplot(x=y_num,y=dt_train,data=df, xlim=[0,3])\n",
    "plt.scatter(y_num,dt_train,color='r')\n",
    "plt.plot([0,3],[0,3],lw=2,color='black')"
   ]
  },
  {
   "cell_type": "code",
   "execution_count": 234,
   "id": "6e77bb47",
   "metadata": {},
   "outputs": [
    {
     "data": {
      "text/plain": [
       "[<matplotlib.lines.Line2D at 0x7f99425cc220>]"
      ]
     },
     "execution_count": 234,
     "metadata": {},
     "output_type": "execute_result"
    },
    {
     "data": {
      "image/png": "[encoded data removed]",
      "text/plain": [
       "<Figure size 288x288 with 1 Axes>"
      ]
     },
     "metadata": {
      "needs_background": "light"
     },
     "output_type": "display_data"
    }
   ],
   "source": [
    "plt.figure(figsize=(4,4))\n",
    "sns.violinplot(x=test_y_num,y=dt_test,data=df, xlim=[0,3])\n",
    "plt.scatter(test_y_num,dt_test,color='r')\n",
    "plt.plot([0,3],[0,3],lw=2,color='black')"
   ]
  },
  {
   "cell_type": "code",
   "execution_count": 235,
   "id": "6ec12c7b",
   "metadata": {},
   "outputs": [
    {
     "name": "stdout",
     "output_type": "stream",
     "text": [
      "Train error 0.16086805555555556\n",
      "Train R-sq 0.3222149074683637\n",
      "\n",
      "Test error 0.42857142857142855\n",
      "Test R-sq -0.8173076923076925\n"
     ]
    }
   ],
   "source": [
    "print(\"Train error\",mean_squared_error(y_num,dt_train))\n",
    "print(\"Train R-sq\",r2_score(y_num,dt_train))\n",
    "\n",
    "print(\"\\nTest error\",mean_squared_error(y_test, y_pred))\n",
    "print(\"Test R-sq\",r2_score(y_test, y_pred))"
   ]
  },
  {
   "cell_type": "markdown",
   "id": "acd77e43",
   "metadata": {},
   "source": [
    "QUESTION 4: Which appears to be more accurate?"
   ]
  },
  {
   "cell_type": "markdown",
   "id": "f03573e4",
   "metadata": {},
   "source": [
    "ANSWER 4: The error on the lasso is higher than the error on the decision tree. The decision tree is more accurate."
   ]
  },
  {
   "cell_type": "markdown",
   "id": "4b0dc2df",
   "metadata": {},
   "source": [
    "Pick 2 classification methods discussed in class and use them to classify possums by either collection site # or population. Make sure to visualize each of your classification attempts."
   ]
  },
  {
   "cell_type": "code",
   "execution_count": 236,
   "id": "493fdc0c",
   "metadata": {},
   "outputs": [
    {
     "name": "stdout",
     "output_type": "stream",
     "text": [
      "[[3 5]\n",
      " [4 9]]\n"
     ]
    }
   ],
   "source": [
    "conf_matrix = metrics.confusion_matrix(y_test, y_pred)\n",
    "print(conf_matrix)"
   ]
  },
  {
   "cell_type": "code",
   "execution_count": 237,
   "id": "96fe3ea7",
   "metadata": {},
   "outputs": [
    {
     "name": "stdout",
     "output_type": "stream",
     "text": [
      "26    0\n",
      "89    1\n",
      "2     0\n",
      "58    1\n",
      "78    1\n",
      "97    1\n",
      "16    0\n",
      "76    1\n",
      "57    1\n",
      "99    1\n",
      "56    0\n",
      "96    1\n",
      "81    0\n",
      "13    1\n",
      "7     0\n",
      "30    1\n",
      "22    0\n",
      "24    1\n",
      "33    1\n",
      "8     0\n",
      "46    1\n",
      "Name: sex_num, dtype: int64\n",
      "[1 1 0 0 1 1 1 1 1 1 0 1 1 0 1 0 1 0 1 0 1]\n"
     ]
    }
   ],
   "source": [
    "print(y_test)\n",
    "print(y_pred)"
   ]
  },
  {
   "cell_type": "code",
   "execution_count": 238,
   "id": "0c17075b",
   "metadata": {},
   "outputs": [
    {
     "data": {
      "image/png": "[encoded data removed]",
      "text/plain": [
       "<Figure size 540x540 with 1 Axes>"
      ]
     },
     "metadata": {
      "needs_background": "light"
     },
     "output_type": "display_data"
    }
   ],
   "source": [
    "fig, ax = plt.subplots(figsize=(7.5, 7.5))\n",
    "ax.matshow(conf_matrix, cmap=plt.cm.Blues, alpha=0.3)\n",
    "for i in range(conf_matrix.shape[0]):\n",
    "    for j in range(conf_matrix.shape[1]):\n",
    "        ax.text(x=j, y=i,s=conf_matrix[i, j], va='center', ha='center', size='xx-large')\n",
    " \n",
    "plt.xlabel('Predictions', fontsize=18)\n",
    "plt.ylabel('Actuals', fontsize=18)\n",
    "plt.title('Confusion Matrix', fontsize=18)\n",
    "plt.show()"
   ]
  },
  {
   "cell_type": "code",
   "execution_count": 239,
   "id": "669b0390",
   "metadata": {},
   "outputs": [
    {
     "name": "stdout",
     "output_type": "stream",
     "text": [
      "[1 0 0 0 0 0 1 0 1 0 1 1 0 0 1 1 0 0 1 0 0 1 1 1 1 0 1 0 1 1 1 1 1 0 1 1 1\n",
      " 0 0 1 0 0 1 1 1 1 0 0 1 1 1 1 1 1 1 1 1 1 1 1 0 1 0 0 1 1 0 1 1 0 1 1 1 0\n",
      " 1 0 0 1 1 0]\n",
      "[0.9        0.27777778 0.9        0.54166667 0.54166667 0.54166667\n",
      " 0.9        0.75       0.54166667 0.54166667 0.9        0.9\n",
      " 0.         0.54166667 0.9        0.9        0.54166667 0.27777778\n",
      " 0.54166667 0.27777778 0.27777778 0.75       0.75       0.27777778\n",
      " 0.9        0.27777778 1.         0.         0.54166667 0.27777778\n",
      " 0.75       1.         0.9        0.27777778 0.9        0.54166667\n",
      " 1.         0.54166667 0.27777778 0.9        0.54166667 0.27777778\n",
      " 0.75       0.54166667 0.27777778 0.27777778 0.27777778 0.27777778\n",
      " 1.         0.9        1.         0.54166667 0.9        0.9\n",
      " 0.9        0.54166667 0.75       1.         0.9        1.\n",
      " 0.54166667 0.54166667 0.54166667 0.54166667 0.9        0.27777778\n",
      " 0.75       0.9        0.54166667 0.         0.54166667 0.54166667\n",
      " 0.75       0.27777778 0.54166667 0.9        0.27777778 0.9\n",
      " 0.54166667 0.27777778]\n"
     ]
    }
   ],
   "source": [
    "print(y_num)\n",
    "print(dt_train)"
   ]
  },
  {
   "cell_type": "code",
   "execution_count": 241,
   "id": "32fcc463",
   "metadata": {},
   "outputs": [],
   "source": [
    "#conf_matrix = metrics.confusion_matrix(y_num,dt_train)\n",
    "#print(conf_matrix)"
   ]
  },
  {
   "cell_type": "markdown",
   "id": "97ac49e4",
   "metadata": {},
   "source": [
    "QUESTION 5: How do the confusion matrices compare?"
   ]
  },
  {
   "cell_type": "markdown",
   "id": "59f1dfef",
   "metadata": {},
   "source": [
    "ANSWER 5:The decision tree is more accurate in comparison to the logistic regression"
   ]
  },
  {
   "cell_type": "markdown",
   "id": "c6f248c7",
   "metadata": {},
   "source": [
    "Pick 2 classification methods discussed in class and use them to classify possums by either collection site # or population. Make sure to visualize each of your classification attempts."
   ]
  },
  {
   "cell_type": "code",
   "execution_count": 247,
   "id": "86a12655",
   "metadata": {
    "scrolled": false
   },
   "outputs": [
    {
     "data": {
      "text/html": [
       "<div>\n",
       "<style scoped>\n",
       "    .dataframe tbody tr th:only-of-type {\n",
       "        vertical-align: middle;\n",
       "    }\n",
       "\n",
       "    .dataframe tbody tr th {\n",
       "        vertical-align: top;\n",
       "    }\n",
       "\n",
       "    .dataframe thead th {\n",
       "        text-align: right;\n",
       "    }\n",
       "</style>\n",
       "<table border=\"1\" class=\"dataframe\">\n",
       "  <thead>\n",
       "    <tr style=\"text-align: right;\">\n",
       "      <th></th>\n",
       "      <th>case</th>\n",
       "      <th>site</th>\n",
       "      <th>Pop</th>\n",
       "      <th>sex</th>\n",
       "      <th>age</th>\n",
       "      <th>hdlngth</th>\n",
       "      <th>skullw</th>\n",
       "      <th>totlngth</th>\n",
       "      <th>taill</th>\n",
       "      <th>footlgth</th>\n",
       "      <th>earconch</th>\n",
       "      <th>eye</th>\n",
       "      <th>chest</th>\n",
       "      <th>belly</th>\n",
       "      <th>sex_num</th>\n",
       "      <th>Pop_num</th>\n",
       "    </tr>\n",
       "  </thead>\n",
       "  <tbody>\n",
       "    <tr>\n",
       "      <th>0</th>\n",
       "      <td>1</td>\n",
       "      <td>1</td>\n",
       "      <td>Vic</td>\n",
       "      <td>m</td>\n",
       "      <td>8.0</td>\n",
       "      <td>94.1</td>\n",
       "      <td>60.4</td>\n",
       "      <td>89.0</td>\n",
       "      <td>36.0</td>\n",
       "      <td>74.5</td>\n",
       "      <td>54.5</td>\n",
       "      <td>15.2</td>\n",
       "      <td>28.0</td>\n",
       "      <td>36.0</td>\n",
       "      <td>1</td>\n",
       "      <td>0</td>\n",
       "    </tr>\n",
       "    <tr>\n",
       "      <th>1</th>\n",
       "      <td>2</td>\n",
       "      <td>1</td>\n",
       "      <td>Vic</td>\n",
       "      <td>f</td>\n",
       "      <td>6.0</td>\n",
       "      <td>92.5</td>\n",
       "      <td>57.6</td>\n",
       "      <td>91.5</td>\n",
       "      <td>36.5</td>\n",
       "      <td>72.5</td>\n",
       "      <td>51.2</td>\n",
       "      <td>16.0</td>\n",
       "      <td>28.5</td>\n",
       "      <td>33.0</td>\n",
       "      <td>0</td>\n",
       "      <td>0</td>\n",
       "    </tr>\n",
       "    <tr>\n",
       "      <th>2</th>\n",
       "      <td>3</td>\n",
       "      <td>1</td>\n",
       "      <td>Vic</td>\n",
       "      <td>f</td>\n",
       "      <td>6.0</td>\n",
       "      <td>94.0</td>\n",
       "      <td>60.0</td>\n",
       "      <td>95.5</td>\n",
       "      <td>39.0</td>\n",
       "      <td>75.4</td>\n",
       "      <td>51.9</td>\n",
       "      <td>15.5</td>\n",
       "      <td>30.0</td>\n",
       "      <td>34.0</td>\n",
       "      <td>0</td>\n",
       "      <td>0</td>\n",
       "    </tr>\n",
       "    <tr>\n",
       "      <th>3</th>\n",
       "      <td>4</td>\n",
       "      <td>1</td>\n",
       "      <td>Vic</td>\n",
       "      <td>f</td>\n",
       "      <td>6.0</td>\n",
       "      <td>93.2</td>\n",
       "      <td>57.1</td>\n",
       "      <td>92.0</td>\n",
       "      <td>38.0</td>\n",
       "      <td>76.1</td>\n",
       "      <td>52.2</td>\n",
       "      <td>15.2</td>\n",
       "      <td>28.0</td>\n",
       "      <td>34.0</td>\n",
       "      <td>0</td>\n",
       "      <td>0</td>\n",
       "    </tr>\n",
       "    <tr>\n",
       "      <th>4</th>\n",
       "      <td>5</td>\n",
       "      <td>1</td>\n",
       "      <td>Vic</td>\n",
       "      <td>f</td>\n",
       "      <td>2.0</td>\n",
       "      <td>91.5</td>\n",
       "      <td>56.3</td>\n",
       "      <td>85.5</td>\n",
       "      <td>36.0</td>\n",
       "      <td>71.0</td>\n",
       "      <td>53.2</td>\n",
       "      <td>15.1</td>\n",
       "      <td>28.5</td>\n",
       "      <td>33.0</td>\n",
       "      <td>0</td>\n",
       "      <td>0</td>\n",
       "    </tr>\n",
       "  </tbody>\n",
       "</table>\n",
       "</div>"
      ],
      "text/plain": [
       "   case  site  Pop sex  age  hdlngth  skullw  totlngth  taill  footlgth  \\\n",
       "0     1     1  Vic   m  8.0     94.1    60.4      89.0   36.0      74.5   \n",
       "1     2     1  Vic   f  6.0     92.5    57.6      91.5   36.5      72.5   \n",
       "2     3     1  Vic   f  6.0     94.0    60.0      95.5   39.0      75.4   \n",
       "3     4     1  Vic   f  6.0     93.2    57.1      92.0   38.0      76.1   \n",
       "4     5     1  Vic   f  2.0     91.5    56.3      85.5   36.0      71.0   \n",
       "\n",
       "   earconch   eye  chest  belly  sex_num Pop_num  \n",
       "0      54.5  15.2   28.0   36.0        1       0  \n",
       "1      51.2  16.0   28.5   33.0        0       0  \n",
       "2      51.9  15.5   30.0   34.0        0       0  \n",
       "3      52.2  15.2   28.0   34.0        0       0  \n",
       "4      53.2  15.1   28.5   33.0        0       0  "
      ]
     },
     "execution_count": 247,
     "metadata": {},
     "output_type": "execute_result"
    }
   ],
   "source": [
    "df.head()"
   ]
  },
  {
   "cell_type": "code",
   "execution_count": 310,
   "id": "1e58e76c",
   "metadata": {},
   "outputs": [
    {
     "name": "stdout",
     "output_type": "stream",
     "text": [
      "[3 6 5 7 1 1 1 5 1 3 6 3 7 1 6 2 5 1 4 6 1]\n"
     ]
    }
   ],
   "source": [
    "train, test=train_test_split(df,test_size=0.2,random_state=1010)\n",
    "\n",
    "x = train[['site']].values\n",
    "y = train['site'].values\n",
    "y_num = train['site'].values\n",
    "\n",
    "test_x = test[['site']].values\n",
    "test_y = test['site'].values\n",
    "test_y_num = test['site'].values\n",
    "\n",
    "print(test_y_num)"
   ]
  },
  {
   "cell_type": "code",
   "execution_count": 311,
   "id": "493930a9",
   "metadata": {},
   "outputs": [],
   "source": [
    "kmeans_train = kmeans.fit_predict(x)\n",
    "kmeans_test = kmeans.fit_predict(test_x)"
   ]
  },
  {
   "cell_type": "code",
   "execution_count": 312,
   "id": "9a4b816a",
   "metadata": {},
   "outputs": [],
   "source": [
    "kmeans = KMeans(n_clusters = 3, init = 'k-means++', max_iter = 300, n_init = 15, random_state = 0)"
   ]
  },
  {
   "cell_type": "code",
   "execution_count": 313,
   "id": "38fa881d",
   "metadata": {},
   "outputs": [],
   "source": [
    "kmeans_train = kmeans.fit_predict(x)\n",
    "kmeans_test = kmeans.fit_predict(test_x)"
   ]
  },
  {
   "cell_type": "code",
   "execution_count": 314,
   "id": "64fbe08c",
   "metadata": {},
   "outputs": [
    {
     "data": {
      "text/plain": [
       "[<matplotlib.lines.Line2D at 0x7f99165da580>]"
      ]
     },
     "execution_count": 314,
     "metadata": {},
     "output_type": "execute_result"
    },
    {
     "data": {
      "image/png": "[encoded data removed]",
      "text/plain": [
       "<Figure size 288x288 with 1 Axes>"
      ]
     },
     "metadata": {
      "needs_background": "light"
     },
     "output_type": "display_data"
    }
   ],
   "source": [
    "plt.figure(figsize=(4,4))\n",
    "\n",
    "plt.scatter(y_num,kmeans_train)\n",
    "plt.scatter(test_y_num,kmeans_test,color='r')\n",
    "plt.plot([0,3],[0,3],lw=4,color='black')"
   ]
  },
  {
   "cell_type": "code",
   "execution_count": null,
   "id": "261b0888",
   "metadata": {},
   "outputs": [],
   "source": []
  },
  {
   "cell_type": "code",
   "execution_count": 316,
   "id": "dc70ff85",
   "metadata": {},
   "outputs": [
    {
     "name": "stdout",
     "output_type": "stream",
     "text": [
      "Train error 12.2625\n",
      "Train R-sq -1.1475481611208402\n",
      "\n",
      "Test error 11.333333333333334\n",
      "Test R-sq -1.3074792243767313\n"
     ]
    }
   ],
   "source": [
    "print(\"Train error\",mean_squared_error(y_num,kmeans_train))\n",
    "print(\"Train R-sq\",r2_score(y_num,kmeans_train))\n",
    "\n",
    "print(\"\\nTest error\",mean_squared_error(test_y_num,kmeans_test))\n",
    "print(\"Test R-sq\",r2_score(test_y_num,kmeans_test))"
   ]
  },
  {
   "cell_type": "code",
   "execution_count": 317,
   "id": "89e1c94a",
   "metadata": {},
   "outputs": [
    {
     "data": {
      "text/plain": [
       "DecisionTreeRegressor(max_depth=4)"
      ]
     },
     "execution_count": 317,
     "metadata": {},
     "output_type": "execute_result"
    }
   ],
   "source": [
    "dt = tree.DecisionTreeRegressor(max_depth=4)\n",
    "dt.fit(x,y_num)"
   ]
  },
  {
   "cell_type": "code",
   "execution_count": 318,
   "id": "ffbbdea1",
   "metadata": {},
   "outputs": [],
   "source": [
    "dt_train=dt.predict(x)\n",
    "dt_test=dt.predict(test_x)"
   ]
  },
  {
   "cell_type": "code",
   "execution_count": 319,
   "id": "29a9dd58",
   "metadata": {},
   "outputs": [
    {
     "data": {
      "text/plain": [
       "[<matplotlib.lines.Line2D at 0x7f98e0750850>]"
      ]
     },
     "execution_count": 319,
     "metadata": {},
     "output_type": "execute_result"
    },
    {
     "data": {
      "image/png": "[encoded data removed]",
      "text/plain": [
       "<Figure size 288x288 with 1 Axes>"
      ]
     },
     "metadata": {
      "needs_background": "light"
     },
     "output_type": "display_data"
    }
   ],
   "source": [
    "plt.figure(figsize=(4,4))\n",
    "\n",
    "plt.scatter(y_num, dt_train)\n",
    "plt.scatter(test_y_num, dt_test,color='r')\n",
    "plt.plot([0,3],[0,3],lw=4,color='black')"
   ]
  },
  {
   "cell_type": "code",
   "execution_count": 320,
   "id": "f2136750",
   "metadata": {},
   "outputs": [
    {
     "data": {
      "text/plain": [
       "[<matplotlib.lines.Line2D at 0x7f98e0780b20>]"
      ]
     },
     "execution_count": 320,
     "metadata": {},
     "output_type": "execute_result"
    },
    {
     "data": {
      "image/png": "[encoded data removed]",
      "text/plain": [
       "<Figure size 288x288 with 1 Axes>"
      ]
     },
     "metadata": {
      "needs_background": "light"
     },
     "output_type": "display_data"
    }
   ],
   "source": [
    "plt.figure(figsize=(4,4))\n",
    "sns.violinplot(x=y_num,y=dt_train,data=df, xlim=[0,3])\n",
    "plt.scatter(y_num,dt_train,color='r')\n",
    "plt.plot([0,3],[0,3],lw=2,color='black')"
   ]
  },
  {
   "cell_type": "code",
   "execution_count": 324,
   "id": "60418671",
   "metadata": {},
   "outputs": [
    {
     "name": "stdout",
     "output_type": "stream",
     "text": [
      "Train error 0.0\n",
      "Train R-sq 1.0\n",
      "\n",
      "Test error 11.333333333333334\n",
      "Test R-sq -1.3074792243767313\n"
     ]
    }
   ],
   "source": [
    "print(\"Train error\",mean_squared_error(y_num,dt_train))\n",
    "print(\"Train R-sq\",r2_score(y_num,dt_train))\n",
    "\n",
    "\n",
    "\n",
    "print(\"\\nTest error\",mean_squared_error(test_y_num,kmeans_test))\n",
    "print(\"Test R-sq\",r2_score(test_y_num,kmeans_test))"
   ]
  },
  {
   "cell_type": "markdown",
   "id": "f1db08a1",
   "metadata": {},
   "source": [
    "QUESTION 6:Which classification method is more accurate?"
   ]
  },
  {
   "cell_type": "markdown",
   "id": "2c153cff",
   "metadata": {},
   "source": [
    "ANSWER 6: I think the method that is more accurate is the decision tree method"
   ]
  },
  {
   "cell_type": "markdown",
   "id": "80ab8b54",
   "metadata": {},
   "source": [
    "QUESTION 7: What properties are most important for an accurate prediction?"
   ]
  },
  {
   "cell_type": "markdown",
   "id": "cdad3d4e",
   "metadata": {},
   "source": [
    "ANSWER 7: I think the most important property for an accurate prediction is evaluating the test and train error. This helps us understand exactly how accurate is our predictions and models. We can base the accuracy off of this"
   ]
  },
  {
   "cell_type": "markdown",
   "id": "0944af38",
   "metadata": {},
   "source": [
    "QUESTION 8: Can this data be classified into these categories well?"
   ]
  },
  {
   "cell_type": "markdown",
   "id": "0f1f9ca5",
   "metadata": {},
   "source": [
    "I think that it is classified into the decison tree well, but I am unsure about the kmeans method."
   ]
  },
  {
   "cell_type": "code",
   "execution_count": null,
   "id": "ee3bae86",
   "metadata": {},
   "outputs": [],
   "source": []
  }
 ],
 "metadata": {
  "kernelspec": {
   "display_name": "Python 3 (ipykernel)",
   "language": "python",
   "name": "python3"
  },
  "language_info": {
   "codemirror_mode": {
    "name": "ipython",
    "version": 3
   },
   "file_extension": ".py",
   "mimetype": "text/x-python",
   "name": "python",
   "nbconvert_exporter": "python",
   "pygments_lexer": "ipython3",
   "version": "3.9.12"
  }
 },
 "nbformat": 4,
 "nbformat_minor": 5
}
